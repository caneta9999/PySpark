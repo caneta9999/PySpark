{
  "nbformat": 4,
  "nbformat_minor": 0,
  "metadata": {
    "colab": {
      "provenance": []
    },
    "kernelspec": {
      "name": "python3",
      "display_name": "Python 3"
    },
    "language_info": {
      "name": "python"
    }
  },
  "cells": [
    {
      "cell_type": "code",
      "execution_count": null,
      "metadata": {
        "id": "6jPFbXnjD1Bo"
      },
      "outputs": [],
      "source": [
        "#Credits and Thanks\n",
        "#https://www.kaggle.com/datasets/midhundasl/co2-emission-of-cars-dataset\n",
        "#https://github.com/krishnaik06/Pyspark-With-Python\n",
        "#https://www.youtube.com/watch?v=_C8kWso4ne4&pp=ugMICgJwdBABGAE%3D"
      ]
    },
    {
      "cell_type": "code",
      "source": [
        "!pip install pyspark"
      ],
      "metadata": {
        "id": "Zvev3-zoFsQW"
      },
      "execution_count": null,
      "outputs": []
    },
    {
      "cell_type": "code",
      "source": [
        "from pyspark.sql import SparkSession\n",
        "spark=SparkSession.builder.appName('Regression').getOrCreate()"
      ],
      "metadata": {
        "id": "LmEJzHekFj7D"
      },
      "execution_count": 31,
      "outputs": []
    },
    {
      "cell_type": "code",
      "source": [
        "data = spark.read.csv('DATA.csv',header=True,inferSchema=True)"
      ],
      "metadata": {
        "id": "FV8YO1PNF5vy"
      },
      "execution_count": 32,
      "outputs": []
    },
    {
      "cell_type": "code",
      "source": [
        "data.show()"
      ],
      "metadata": {
        "colab": {
          "base_uri": "https://localhost:8080/"
        },
        "id": "sExZkeu2F9zc",
        "outputId": "ad83e7f6-6fab-4022-81fe-45ace3d7671d"
      },
      "execution_count": 33,
      "outputs": [
        {
          "output_type": "stream",
          "name": "stdout",
          "text": [
            "+----------+----------+------+------+---+----+\n",
            "|       Car|     Model|Volume|Weight|CO2| _c5|\n",
            "+----------+----------+------+------+---+----+\n",
            "|    Toyota|      Aygo|  1000|   790| 99|null|\n",
            "|Mitsubishi|Space Star|  1200|  1160| 95|null|\n",
            "|     Skoda|    Citigo|  1000|   929| 95|null|\n",
            "|      Fiat|       500|   900|   865| 90|null|\n",
            "|      Mini|    Cooper|  1500|  1140|105|null|\n",
            "|        VW|       Up!|  1000|   929|105|null|\n",
            "|     Skoda|     Fabia|  1400|  1109| 90|null|\n",
            "|  Mercedes|   A-Class|  1500|  1365| 92|null|\n",
            "|      Ford|    Fiesta|  1500|  1112| 98|null|\n",
            "|      Audi|        A1|  1600|  1150| 99|null|\n",
            "|   Hyundai|       I20|  1100|   980| 99|null|\n",
            "|    Suzuki|     Swift|  1300|   990|101|null|\n",
            "|      Ford|    Fiesta|  1000|  1112| 99|null|\n",
            "|     Honda|     Civic|  1600|  1252| 94|null|\n",
            "|    Hundai|       I30|  1600|  1326| 97|null|\n",
            "|      Opel|     Astra|  1600|  1330| 97|null|\n",
            "|       BMW|         1|  1600|  1365| 99|null|\n",
            "|     Mazda|         3|  2200|  1280|104|null|\n",
            "|     Skoda|     Rapid|  1600|  1119|104|null|\n",
            "|      Ford|     Focus|  2000|  1328|105|null|\n",
            "+----------+----------+------+------+---+----+\n",
            "only showing top 20 rows\n",
            "\n"
          ]
        }
      ]
    },
    {
      "cell_type": "code",
      "source": [
        "data = data.drop('_c5')\n",
        "data.show()"
      ],
      "metadata": {
        "id": "_4vxXplwGB-4"
      },
      "execution_count": null,
      "outputs": []
    },
    {
      "cell_type": "code",
      "source": [
        "from pyspark.ml.feature import StringIndexer\n",
        "indexer=StringIndexer(inputCols=[\"Car\",\"Model\"],outputCols=[\"Car_New\",\"Model_New\"])\n",
        "data=indexer.fit(data).transform(data)\n",
        "data.show()"
      ],
      "metadata": {
        "colab": {
          "base_uri": "https://localhost:8080/"
        },
        "id": "GUYyBTgqGfIL",
        "outputId": "f6c41c21-f794-4915-c648-3c874f509057"
      },
      "execution_count": 35,
      "outputs": [
        {
          "output_type": "stream",
          "name": "stdout",
          "text": [
            "+----------+----------+------+------+---+-------+---------+\n",
            "|       Car|     Model|Volume|Weight|CO2|Car_New|Model_New|\n",
            "+----------+----------+------+------+---+-------+---------+\n",
            "|    Toyota|      Aygo|  1000|   790| 99|   15.0|     11.0|\n",
            "|Mitsubishi|Space Star|  1200|  1160| 95|   13.0|     29.0|\n",
            "|     Skoda|    Citigo|  1000|   929| 95|    2.0|     15.0|\n",
            "|      Fiat|       500|   900|   865| 90|    7.0|      5.0|\n",
            "|      Mini|    Cooper|  1500|  1140|105|   12.0|     17.0|\n",
            "|        VW|       Up!|  1000|   929|105|   16.0|     31.0|\n",
            "|     Skoda|     Fabia|  1400|  1109| 90|    2.0|     19.0|\n",
            "|  Mercedes|   A-Class|  1500|  1365| 92|    1.0|      6.0|\n",
            "|      Ford|    Fiesta|  1500|  1112| 98|    0.0|      0.0|\n",
            "|      Audi|        A1|  1600|  1150| 99|    3.0|      7.0|\n",
            "|   Hyundai|       I20|  1100|   980| 99|   10.0|     21.0|\n",
            "|    Suzuki|     Swift|  1300|   990|101|   14.0|     30.0|\n",
            "|      Ford|    Fiesta|  1000|  1112| 99|    0.0|      0.0|\n",
            "|     Honda|     Civic|  1600|  1252| 94|    8.0|     16.0|\n",
            "|    Hundai|       I30|  1600|  1326| 97|    9.0|     22.0|\n",
            "|      Opel|     Astra|  1600|  1330| 97|    5.0|     10.0|\n",
            "|       BMW|         1|  1600|  1365| 99|    4.0|      1.0|\n",
            "|     Mazda|         3|  2200|  1280|104|   11.0|      3.0|\n",
            "|     Skoda|     Rapid|  1600|  1119|104|    2.0|     26.0|\n",
            "|      Ford|     Focus|  2000|  1328|105|    0.0|     20.0|\n",
            "+----------+----------+------+------+---+-------+---------+\n",
            "only showing top 20 rows\n",
            "\n"
          ]
        }
      ]
    },
    {
      "cell_type": "code",
      "source": [
        "for c in ['Car','Model']:\n",
        "  data = data.drop(c)\n",
        "  data = data.withColumnRenamed(f'{c}_New',c)\n",
        "data.show()"
      ],
      "metadata": {
        "colab": {
          "base_uri": "https://localhost:8080/"
        },
        "id": "Cj6jIRo3Gyn2",
        "outputId": "37721145-2c8e-46a6-ea32-8e8810c2bdec"
      },
      "execution_count": 36,
      "outputs": [
        {
          "output_type": "stream",
          "name": "stdout",
          "text": [
            "+------+------+---+----+-----+\n",
            "|Volume|Weight|CO2| Car|Model|\n",
            "+------+------+---+----+-----+\n",
            "|  1000|   790| 99|15.0| 11.0|\n",
            "|  1200|  1160| 95|13.0| 29.0|\n",
            "|  1000|   929| 95| 2.0| 15.0|\n",
            "|   900|   865| 90| 7.0|  5.0|\n",
            "|  1500|  1140|105|12.0| 17.0|\n",
            "|  1000|   929|105|16.0| 31.0|\n",
            "|  1400|  1109| 90| 2.0| 19.0|\n",
            "|  1500|  1365| 92| 1.0|  6.0|\n",
            "|  1500|  1112| 98| 0.0|  0.0|\n",
            "|  1600|  1150| 99| 3.0|  7.0|\n",
            "|  1100|   980| 99|10.0| 21.0|\n",
            "|  1300|   990|101|14.0| 30.0|\n",
            "|  1000|  1112| 99| 0.0|  0.0|\n",
            "|  1600|  1252| 94| 8.0| 16.0|\n",
            "|  1600|  1326| 97| 9.0| 22.0|\n",
            "|  1600|  1330| 97| 5.0| 10.0|\n",
            "|  1600|  1365| 99| 4.0|  1.0|\n",
            "|  2200|  1280|104|11.0|  3.0|\n",
            "|  1600|  1119|104| 2.0| 26.0|\n",
            "|  2000|  1328|105| 0.0| 20.0|\n",
            "+------+------+---+----+-----+\n",
            "only showing top 20 rows\n",
            "\n"
          ]
        }
      ]
    },
    {
      "cell_type": "code",
      "source": [
        "columns=[\"Volume\",\"Weight\",\"Car\",\"Model\"]"
      ],
      "metadata": {
        "id": "F8ZARAzLOjF0"
      },
      "execution_count": 37,
      "outputs": []
    },
    {
      "cell_type": "code",
      "source": [
        "from pyspark.ml.feature import VectorAssembler\n",
        "featuresAssembler=VectorAssembler(inputCols=columns,outputCol=\"Independent Features\")\n",
        "data = featuresAssembler.transform(data)"
      ],
      "metadata": {
        "id": "IyN45EntGJNc"
      },
      "execution_count": 38,
      "outputs": []
    },
    {
      "cell_type": "code",
      "source": [
        "data.show()"
      ],
      "metadata": {
        "colab": {
          "base_uri": "https://localhost:8080/"
        },
        "id": "u47KZt3DHi03",
        "outputId": "5acb66bd-ab99-4190-ea72-470f265f4a56"
      },
      "execution_count": 39,
      "outputs": [
        {
          "output_type": "stream",
          "name": "stdout",
          "text": [
            "+------+------+---+----+-----+--------------------+\n",
            "|Volume|Weight|CO2| Car|Model|Independent Features|\n",
            "+------+------+---+----+-----+--------------------+\n",
            "|  1000|   790| 99|15.0| 11.0|[1000.0,790.0,15....|\n",
            "|  1200|  1160| 95|13.0| 29.0|[1200.0,1160.0,13...|\n",
            "|  1000|   929| 95| 2.0| 15.0|[1000.0,929.0,2.0...|\n",
            "|   900|   865| 90| 7.0|  5.0|[900.0,865.0,7.0,...|\n",
            "|  1500|  1140|105|12.0| 17.0|[1500.0,1140.0,12...|\n",
            "|  1000|   929|105|16.0| 31.0|[1000.0,929.0,16....|\n",
            "|  1400|  1109| 90| 2.0| 19.0|[1400.0,1109.0,2....|\n",
            "|  1500|  1365| 92| 1.0|  6.0|[1500.0,1365.0,1....|\n",
            "|  1500|  1112| 98| 0.0|  0.0|[1500.0,1112.0,0....|\n",
            "|  1600|  1150| 99| 3.0|  7.0|[1600.0,1150.0,3....|\n",
            "|  1100|   980| 99|10.0| 21.0|[1100.0,980.0,10....|\n",
            "|  1300|   990|101|14.0| 30.0|[1300.0,990.0,14....|\n",
            "|  1000|  1112| 99| 0.0|  0.0|[1000.0,1112.0,0....|\n",
            "|  1600|  1252| 94| 8.0| 16.0|[1600.0,1252.0,8....|\n",
            "|  1600|  1326| 97| 9.0| 22.0|[1600.0,1326.0,9....|\n",
            "|  1600|  1330| 97| 5.0| 10.0|[1600.0,1330.0,5....|\n",
            "|  1600|  1365| 99| 4.0|  1.0|[1600.0,1365.0,4....|\n",
            "|  2200|  1280|104|11.0|  3.0|[2200.0,1280.0,11...|\n",
            "|  1600|  1119|104| 2.0| 26.0|[1600.0,1119.0,2....|\n",
            "|  2000|  1328|105| 0.0| 20.0|[2000.0,1328.0,0....|\n",
            "+------+------+---+----+-----+--------------------+\n",
            "only showing top 20 rows\n",
            "\n"
          ]
        }
      ]
    },
    {
      "cell_type": "code",
      "source": [
        "from pyspark.ml.regression import LinearRegression\n",
        "train_data,test_data=data.randomSplit([0.7,0.3])\n",
        "regressor=LinearRegression(featuresCol='Independent Features', labelCol='CO2')\n",
        "regressor=regressor.fit(train_data)"
      ],
      "metadata": {
        "id": "AeQzUSIFHLFL"
      },
      "execution_count": 40,
      "outputs": []
    },
    {
      "cell_type": "code",
      "source": [
        "for i, c in enumerate(regressor.coefficients):\n",
        "  print(f'{columns[i]}*{c:.3f}',end=\" + \")\n",
        "print(f'{regressor.intercept:.3f}')"
      ],
      "metadata": {
        "colab": {
          "base_uri": "https://localhost:8080/"
        },
        "id": "M7tObmadHnvZ",
        "outputId": "90be2943-a06b-4448-9a74-739e1a60f494"
      },
      "execution_count": 41,
      "outputs": [
        {
          "output_type": "stream",
          "name": "stdout",
          "text": [
            "Volume*0.012 + Weight*0.008 + Car*0.394 + Model*0.058 + 68.307\n"
          ]
        }
      ]
    },
    {
      "cell_type": "code",
      "source": [
        "def calc(*args):\n",
        "  sum = 0\n",
        "  for i,c in enumerate(regressor.coefficients):\n",
        "    sum += args[i] * c\n",
        "  sum += regressor.intercept\n",
        "  return sum"
      ],
      "metadata": {
        "id": "AHU-j3q2PDfb"
      },
      "execution_count": 44,
      "outputs": []
    },
    {
      "cell_type": "code",
      "source": [
        "pred=regressor.evaluate(test_data)"
      ],
      "metadata": {
        "id": "Egn8X9peI9kl"
      },
      "execution_count": 42,
      "outputs": []
    },
    {
      "cell_type": "code",
      "source": [
        "pred.predictions.show()"
      ],
      "metadata": {
        "colab": {
          "base_uri": "https://localhost:8080/"
        },
        "id": "r6r6uWrjJB6w",
        "outputId": "e2ad618d-c6e0-4de3-e0c5-663020bf204d"
      },
      "execution_count": 43,
      "outputs": [
        {
          "output_type": "stream",
          "name": "stdout",
          "text": [
            "+------+------+---+----+-----+--------------------+------------------+\n",
            "|Volume|Weight|CO2| Car|Model|Independent Features|        prediction|\n",
            "+------+------+---+----+-----+--------------------+------------------+\n",
            "|   900|   865| 90| 7.0|  5.0|[900.0,865.0,7.0,...| 89.42421951663486|\n",
            "|  1000|   929|105|16.0| 31.0|[1000.0,929.0,16....| 96.23449811122855|\n",
            "|  1000|  1112| 99| 0.0|  0.0|[1000.0,1112.0,0....| 89.57561599571888|\n",
            "|  1100|   980| 99|10.0| 21.0|[1100.0,980.0,10....| 94.93899720358334|\n",
            "|  1500|  1112| 98| 0.0|  0.0|[1500.0,1112.0,0....| 95.80967150060057|\n",
            "|  1500|  1140|105|12.0| 17.0|[1500.0,1140.0,12...|101.74913315015507|\n",
            "|  1600|  1326| 97| 9.0| 22.0|[1600.0,1326.0,9....|103.57506804227765|\n",
            "|  1600|  1365| 99| 4.0|  1.0|[1600.0,1365.0,4....| 100.6940517931546|\n",
            "|  2000|  1490|104| 3.0|  8.0|[2000.0,1490.0,3....|106.68229156384723|\n",
            "|  2000|  1725|114| 3.0|  9.0|[2000.0,1725.0,3....| 108.6001420410588|\n",
            "|  2200|  1280|104|11.0|  3.0|[2200.0,1280.0,11...| 110.3784262820143|\n",
            "+------+------+---+----+-----+--------------------+------------------+\n",
            "\n"
          ]
        }
      ]
    },
    {
      "cell_type": "code",
      "source": [
        "calc(900,865,7,5)"
      ],
      "metadata": {
        "colab": {
          "base_uri": "https://localhost:8080/"
        },
        "id": "2vIOnZINPeSO",
        "outputId": "9aace45a-e55d-4ada-a1ae-525156964351"
      },
      "execution_count": 45,
      "outputs": [
        {
          "output_type": "execute_result",
          "data": {
            "text/plain": [
              "89.42421951663486"
            ]
          },
          "metadata": {},
          "execution_count": 45
        }
      ]
    },
    {
      "cell_type": "code",
      "source": [
        "calc(1000,929,16,31)"
      ],
      "metadata": {
        "colab": {
          "base_uri": "https://localhost:8080/"
        },
        "id": "tHxG77RKPzkL",
        "outputId": "d7ac12c5-d460-42a8-e4ab-dcea4ec91a83"
      },
      "execution_count": 46,
      "outputs": [
        {
          "output_type": "execute_result",
          "data": {
            "text/plain": [
              "96.23449811122855"
            ]
          },
          "metadata": {},
          "execution_count": 46
        }
      ]
    },
    {
      "cell_type": "code",
      "source": [
        "pred.meanAbsoluteError,pred.meanSquaredError"
      ],
      "metadata": {
        "colab": {
          "base_uri": "https://localhost:8080/"
        },
        "id": "xaKpw8MFYeFz",
        "outputId": "c6e315b3-f7eb-4521-bd51-46f956a17c23"
      },
      "execution_count": 47,
      "outputs": [
        {
          "output_type": "execute_result",
          "data": {
            "text/plain": [
              "(4.63614183293761, 29.180071399474958)"
            ]
          },
          "metadata": {},
          "execution_count": 47
        }
      ]
    }
  ]
}