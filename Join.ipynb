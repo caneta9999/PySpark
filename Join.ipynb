{
  "nbformat": 4,
  "nbformat_minor": 0,
  "metadata": {
    "colab": {
      "provenance": []
    },
    "kernelspec": {
      "name": "python3",
      "display_name": "Python 3"
    },
    "language_info": {
      "name": "python"
    }
  },
  "cells": [
    {
      "cell_type": "code",
      "source": [
        "#Credits and Thanks\n",
        "#https://sparkbyexamples.com/pyspark/pyspark-join-explained-with-examples/"
      ],
      "metadata": {
        "id": "1wYlcjrV89Tl"
      },
      "execution_count": null,
      "outputs": []
    },
    {
      "cell_type": "code",
      "source": [
        "!pip install pyspark"
      ],
      "metadata": {
        "id": "irglzss586xt"
      },
      "execution_count": null,
      "outputs": []
    },
    {
      "cell_type": "code",
      "execution_count": 3,
      "metadata": {
        "id": "Avty0fzu8vhZ"
      },
      "outputs": [],
      "source": [
        "from pyspark.sql import SparkSession\n",
        "from random import randint"
      ]
    },
    {
      "cell_type": "code",
      "source": [
        "spark=SparkSession.builder.appName('Join').getOrCreate()"
      ],
      "metadata": {
        "id": "V5-Xe1iv-keS"
      },
      "execution_count": 4,
      "outputs": []
    },
    {
      "cell_type": "code",
      "source": [
        "names = ['James','John','Robert','Michael','David','Mary','Patricia','Jennifer','Linda','Elizabeth']\n",
        "emp = []\n",
        "empColumns = ['id','name','age','emp_dept_id']\n",
        "dept = [(\"Finance\",1),(\"Marketing\",2),(\"Sales\",3),(\"IT\",4),(\"HR\",5)]\n",
        "deptColumns = [\"dept_name\",\"dept_id\"]\n",
        "for i in range(0,2000):\n",
        "  emp.append([i,names[randint(0,9)],randint(20,60),randint(1,5)])\n",
        "df_emp = spark.createDataFrame(data=emp, schema = empColumns)\n",
        "df_dept = spark.createDataFrame(data=dept, schema=deptColumns)"
      ],
      "metadata": {
        "id": "CzAZ7Y1-9BtH"
      },
      "execution_count": 39,
      "outputs": []
    },
    {
      "cell_type": "code",
      "source": [
        "df_emp.printSchema(), df_dept.printSchema()"
      ],
      "metadata": {
        "colab": {
          "base_uri": "https://localhost:8080/"
        },
        "id": "Pch6AWYM-v_I",
        "outputId": "4e47b294-01d9-49c4-81a3-4db5750d8bd1"
      },
      "execution_count": 40,
      "outputs": [
        {
          "output_type": "stream",
          "name": "stdout",
          "text": [
            "root\n",
            " |-- id: long (nullable = true)\n",
            " |-- name: string (nullable = true)\n",
            " |-- age: long (nullable = true)\n",
            " |-- emp_dept_id: long (nullable = true)\n",
            "\n",
            "root\n",
            " |-- dept_name: string (nullable = true)\n",
            " |-- dept_id: long (nullable = true)\n",
            "\n"
          ]
        },
        {
          "output_type": "execute_result",
          "data": {
            "text/plain": [
              "(None, None)"
            ]
          },
          "metadata": {},
          "execution_count": 40
        }
      ]
    },
    {
      "cell_type": "code",
      "source": [
        "df_emp.show()"
      ],
      "metadata": {
        "colab": {
          "base_uri": "https://localhost:8080/"
        },
        "id": "5MfRqb9y-9C5",
        "outputId": "9e828563-49b8-4cb7-be71-0395bb15cc22"
      },
      "execution_count": 41,
      "outputs": [
        {
          "output_type": "stream",
          "name": "stdout",
          "text": [
            "+---+---------+---+-----------+\n",
            "| id|     name|age|emp_dept_id|\n",
            "+---+---------+---+-----------+\n",
            "|  0|    David| 33|          1|\n",
            "|  1|Elizabeth| 20|          5|\n",
            "|  2|    James| 46|          4|\n",
            "|  3| Jennifer| 59|          1|\n",
            "|  4|  Michael| 57|          4|\n",
            "|  5|   Robert| 29|          1|\n",
            "|  6| Jennifer| 54|          2|\n",
            "|  7|Elizabeth| 57|          2|\n",
            "|  8|  Michael| 42|          5|\n",
            "|  9|  Michael| 46|          3|\n",
            "| 10| Jennifer| 41|          4|\n",
            "| 11|   Robert| 25|          4|\n",
            "| 12|     Mary| 37|          2|\n",
            "| 13| Patricia| 60|          2|\n",
            "| 14|   Robert| 56|          1|\n",
            "| 15|     Mary| 39|          4|\n",
            "| 16|  Michael| 56|          5|\n",
            "| 17|     John| 55|          4|\n",
            "| 18|    James| 51|          5|\n",
            "| 19|     John| 32|          5|\n",
            "+---+---------+---+-----------+\n",
            "only showing top 20 rows\n",
            "\n"
          ]
        }
      ]
    },
    {
      "cell_type": "code",
      "source": [
        "df_dept.show()"
      ],
      "metadata": {
        "colab": {
          "base_uri": "https://localhost:8080/"
        },
        "id": "pHt-c377_C29",
        "outputId": "953a4660-89d8-4b73-e0ce-1749110e0f58"
      },
      "execution_count": 42,
      "outputs": [
        {
          "output_type": "stream",
          "name": "stdout",
          "text": [
            "+---------+-------+\n",
            "|dept_name|dept_id|\n",
            "+---------+-------+\n",
            "|  Finance|      1|\n",
            "|Marketing|      2|\n",
            "|    Sales|      3|\n",
            "|       IT|      4|\n",
            "|       HR|      5|\n",
            "+---------+-------+\n",
            "\n"
          ]
        }
      ]
    },
    {
      "cell_type": "code",
      "source": [
        "df_join = df_emp.join(df_dept,df_emp.emp_dept_id ==  df_dept.dept_id,\"inner\")\n",
        "df_join.show()"
      ],
      "metadata": {
        "colab": {
          "base_uri": "https://localhost:8080/"
        },
        "id": "pZXHyPOfDk-K",
        "outputId": "3baf706f-6f95-4e37-a725-447df41bd712"
      },
      "execution_count": 43,
      "outputs": [
        {
          "output_type": "stream",
          "name": "stdout",
          "text": [
            "+---+---------+---+-----------+---------+-------+\n",
            "| id|     name|age|emp_dept_id|dept_name|dept_id|\n",
            "+---+---------+---+-----------+---------+-------+\n",
            "|  0|    David| 33|          1|  Finance|      1|\n",
            "|  3| Jennifer| 59|          1|  Finance|      1|\n",
            "|  5|   Robert| 29|          1|  Finance|      1|\n",
            "| 14|   Robert| 56|          1|  Finance|      1|\n",
            "| 31|    Linda| 45|          1|  Finance|      1|\n",
            "| 32|   Robert| 26|          1|  Finance|      1|\n",
            "| 36|     John| 41|          1|  Finance|      1|\n",
            "| 37|    James| 51|          1|  Finance|      1|\n",
            "| 41|    David| 36|          1|  Finance|      1|\n",
            "| 46|    Linda| 59|          1|  Finance|      1|\n",
            "| 62|    James| 54|          1|  Finance|      1|\n",
            "| 68|  Michael| 35|          1|  Finance|      1|\n",
            "| 72| Jennifer| 40|          1|  Finance|      1|\n",
            "| 75|    Linda| 24|          1|  Finance|      1|\n",
            "| 80|Elizabeth| 29|          1|  Finance|      1|\n",
            "| 82|    Linda| 32|          1|  Finance|      1|\n",
            "| 91| Jennifer| 34|          1|  Finance|      1|\n",
            "|100|Elizabeth| 44|          1|  Finance|      1|\n",
            "|101| Patricia| 35|          1|  Finance|      1|\n",
            "|123| Jennifer| 53|          1|  Finance|      1|\n",
            "+---+---------+---+-----------+---------+-------+\n",
            "only showing top 20 rows\n",
            "\n"
          ]
        }
      ]
    },
    {
      "cell_type": "code",
      "source": [
        "df_join.groupby(\"dept_name\").count().show()"
      ],
      "metadata": {
        "colab": {
          "base_uri": "https://localhost:8080/"
        },
        "id": "Gpi1-7HzFIM8",
        "outputId": "da0dfe2b-bf16-4ad8-92ae-81cf972c6572"
      },
      "execution_count": 44,
      "outputs": [
        {
          "output_type": "stream",
          "name": "stdout",
          "text": [
            "+---------+-----+\n",
            "|dept_name|count|\n",
            "+---------+-----+\n",
            "|    Sales|  383|\n",
            "|       HR|  396|\n",
            "|  Finance|  392|\n",
            "|Marketing|  399|\n",
            "|       IT|  430|\n",
            "+---------+-----+\n",
            "\n"
          ]
        }
      ]
    },
    {
      "cell_type": "code",
      "source": [
        "df_join.filter('id > 70').groupby(\"dept_name\").count().show()"
      ],
      "metadata": {
        "colab": {
          "base_uri": "https://localhost:8080/"
        },
        "id": "FG3W6IUkEIeZ",
        "outputId": "a15941c6-1755-4761-94f8-9cfad40bfc04"
      },
      "execution_count": 45,
      "outputs": [
        {
          "output_type": "stream",
          "name": "stdout",
          "text": [
            "+---------+-----+\n",
            "|dept_name|count|\n",
            "+---------+-----+\n",
            "|    Sales|  375|\n",
            "|       HR|  377|\n",
            "|  Finance|  380|\n",
            "|Marketing|  378|\n",
            "|       IT|  419|\n",
            "+---------+-----+\n",
            "\n"
          ]
        }
      ]
    },
    {
      "cell_type": "code",
      "source": [
        "df_join.filter('age > 40 or dept_id = 5').select('name','age','dept_id','dept_name').sort(\"age\",ascending=False).show()"
      ],
      "metadata": {
        "colab": {
          "base_uri": "https://localhost:8080/"
        },
        "id": "IRljW140ErIZ",
        "outputId": "3af7f5a4-8dae-4bc7-df7d-44a85669958a"
      },
      "execution_count": 46,
      "outputs": [
        {
          "output_type": "stream",
          "name": "stdout",
          "text": [
            "+---------+---+-------+---------+\n",
            "|     name|age|dept_id|dept_name|\n",
            "+---------+---+-------+---------+\n",
            "|   Robert| 60|      2|Marketing|\n",
            "|Elizabeth| 60|      4|       IT|\n",
            "|Elizabeth| 60|      2|Marketing|\n",
            "|    James| 60|      1|  Finance|\n",
            "|     John| 60|      2|Marketing|\n",
            "|    James| 60|      1|  Finance|\n",
            "| Patricia| 60|      3|    Sales|\n",
            "|   Robert| 60|      1|  Finance|\n",
            "|    James| 60|      3|    Sales|\n",
            "|    David| 60|      2|Marketing|\n",
            "|   Robert| 60|      3|    Sales|\n",
            "|Elizabeth| 60|      2|Marketing|\n",
            "|     John| 60|      3|    Sales|\n",
            "|    David| 60|      2|Marketing|\n",
            "|Elizabeth| 60|      3|    Sales|\n",
            "|   Robert| 60|      2|Marketing|\n",
            "|   Robert| 60|      3|    Sales|\n",
            "| Patricia| 60|      3|    Sales|\n",
            "| Jennifer| 60|      4|       IT|\n",
            "|    David| 60|      3|    Sales|\n",
            "+---------+---+-------+---------+\n",
            "only showing top 20 rows\n",
            "\n"
          ]
        }
      ]
    },
    {
      "cell_type": "code",
      "source": [
        "df_join.filter('dept_name = \"Finance\"').agg({'age':'avg'}).show()"
      ],
      "metadata": {
        "colab": {
          "base_uri": "https://localhost:8080/"
        },
        "id": "sWbZibR6FqmG",
        "outputId": "0a6bb7bb-6d6c-4f9b-fc6a-58989af05120"
      },
      "execution_count": 47,
      "outputs": [
        {
          "output_type": "stream",
          "name": "stdout",
          "text": [
            "+-----------------+\n",
            "|         avg(age)|\n",
            "+-----------------+\n",
            "|40.02040816326531|\n",
            "+-----------------+\n",
            "\n"
          ]
        }
      ]
    },
    {
      "cell_type": "code",
      "source": [
        "df_join.groupby('dept_name').avg('age').sort('avg(age)',ascending=False).show()"
      ],
      "metadata": {
        "colab": {
          "base_uri": "https://localhost:8080/"
        },
        "id": "eCUK-zF2F8AY",
        "outputId": "51312502-a9af-4a6b-aff9-15d9449acfb2"
      },
      "execution_count": 48,
      "outputs": [
        {
          "output_type": "stream",
          "name": "stdout",
          "text": [
            "+---------+------------------+\n",
            "|dept_name|          avg(age)|\n",
            "+---------+------------------+\n",
            "|    Sales| 40.74934725848564|\n",
            "|Marketing|40.711779448621556|\n",
            "|  Finance| 40.02040816326531|\n",
            "|       IT| 39.53488372093023|\n",
            "|       HR|  39.2979797979798|\n",
            "+---------+------------------+\n",
            "\n"
          ]
        }
      ]
    }
  ]
}